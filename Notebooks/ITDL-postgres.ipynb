{
 "cells": [
  {
   "cell_type": "markdown",
   "metadata": {},
   "source": [
    "# Dependencies"
   ]
  },
  {
   "cell_type": "code",
   "execution_count": 2,
   "metadata": {},
   "outputs": [
    {
     "name": "stdout",
     "output_type": "stream",
     "text": [
      "Requirement already satisfied: psycopg2-binary in ./anaconda3/lib/python3.8/site-packages (2.9.1)\n",
      "\u001b[33mWARNING: Keyring is skipped due to an exception: Failed to unlock the collection!\u001b[0m\n"
     ]
    }
   ],
   "source": [
    "!pip install pyarrow\n",
    "!pip install psycopg2-binary"
   ]
  },
  {
   "cell_type": "markdown",
   "metadata": {},
   "source": [
    "# Libraries"
   ]
  },
  {
   "cell_type": "code",
   "execution_count": 1,
   "metadata": {
    "execution": {
     "iopub.execute_input": "2021-08-15T13:11:26.83219Z",
     "iopub.status.busy": "2021-08-15T13:11:26.831859Z",
     "iopub.status.idle": "2021-08-15T13:11:27.944056Z",
     "shell.execute_reply": "2021-08-15T13:11:27.943319Z",
     "shell.execute_reply.started": "2021-08-15T13:11:26.832161Z"
    }
   },
   "outputs": [],
   "source": [
    "import pandas as pd\n",
    "import numpy as np\n",
    "import psycopg2 as postgres\n",
    "import math"
   ]
  },
  {
   "cell_type": "markdown",
   "metadata": {},
   "source": [
    "# Utils"
   ]
  },
  {
   "cell_type": "code",
   "execution_count": 5,
   "metadata": {},
   "outputs": [],
   "source": [
    "def connect():\n",
    "    \"\"\"\n",
    "    Establishes a connection to a PostgreSQL database.\n",
    "\n",
    "    Returns:\n",
    "        psycopg2.extensions.connection: A connection object to the database.\n",
    "    \"\"\"\n",
    "    conn = None\n",
    "    try:\n",
    "        conn = psycopg2.connect(\n",
    "            host=\"localhost\",\n",
    "            database=\"austin_test\",  # Database name\n",
    "            user=\"postgres\",         # Database username\n",
    "            password=\"root\"          # Database password\n",
    "        )\n",
    "    except psycopg2.Error as e:\n",
    "        print(e)\n",
    "    return conn"
   ]
  },
  {
   "cell_type": "code",
   "execution_count": 6,
   "metadata": {},
   "outputs": [],
   "source": [
    "def closeConnection(conn):\n",
    "    \"\"\"\n",
    "    Closes the connection to a PostgreSQL database.\n",
    "\n",
    "    Args:\n",
    "        conn (psycopg2.extensions.connection): A connection object to the database.\n",
    "\n",
    "    Returns:\n",
    "        bool: True if the connection was successfully closed, False otherwise.\n",
    "    \"\"\"\n",
    "    success = False\n",
    "    try:\n",
    "        conn.close()\n",
    "        success = True\n",
    "    except psycopg2.Error as e:\n",
    "        print(e)\n",
    "    \n",
    "    return success"
   ]
  },
  {
   "cell_type": "code",
   "execution_count": 7,
   "metadata": {},
   "outputs": [],
   "source": [
    "def executeQuery(conn, sql):\n",
    "    \"\"\"\n",
    "    Executes a SQL query on a PostgreSQL database.\n",
    "\n",
    "    Args:\n",
    "        conn (psycopg2.extensions.connection): A connection object to the database.\n",
    "        sql (str): The SQL query to execute.\n",
    "\n",
    "    Returns:\n",
    "        list: A list of records (tuples) retrieved from the database.\n",
    "    \"\"\"\n",
    "    record = None\n",
    "    try:\n",
    "        cur = conn.cursor()\n",
    "        cur.execute(sql)\n",
    "        record = cur.fetchall()\n",
    "        cur.close()\n",
    "    except psycopg2.Error as e:\n",
    "        print(e)\n",
    "        cur.execute(\"ROLLBACK\")\n",
    "        cur.close()\n",
    "    return record"
   ]
  },
  {
   "cell_type": "code",
   "execution_count": 8,
   "metadata": {},
   "outputs": [],
   "source": [
    "def executeInsert(conn, sql):\n",
    "    \"\"\"\n",
    "    Executes an SQL INSERT statement on a PostgreSQL database.\n",
    "\n",
    "    Args:\n",
    "        conn (psycopg2.extensions.connection): A connection object to the database.\n",
    "        sql (str): The SQL INSERT statement to execute.\n",
    "\n",
    "    Returns:\n",
    "        bool: True if the insertion was successful, False otherwise.\n",
    "    \"\"\"\n",
    "    success = False\n",
    "    try:\n",
    "        cur = conn.cursor()\n",
    "        cur.execute(sql)\n",
    "        conn.commit()\n",
    "        cur.close()\n",
    "        success = True\n",
    "    except psycopg2.Error as e:\n",
    "        print(e)\n",
    "        cur.execute(\"ROLLBACK\")\n",
    "        cur.close()\n",
    "\n",
    "    return success"
   ]
  },
  {
   "cell_type": "code",
   "execution_count": 9,
   "metadata": {
    "execution": {
     "iopub.execute_input": "2021-08-15T13:11:28.004993Z",
     "iopub.status.busy": "2021-08-15T13:11:28.004358Z",
     "iopub.status.idle": "2021-08-15T13:11:28.012586Z",
     "shell.execute_reply": "2021-08-15T13:11:28.011911Z",
     "shell.execute_reply.started": "2021-08-15T13:11:28.004948Z"
    }
   },
   "outputs": [],
   "source": [
    "def getPOIInformation(conn, business_id):\n",
    "    \"\"\"\n",
    "    Retrieves information about a Point of Interest (POI) based on its ID.\n",
    "\n",
    "    Args:\n",
    "        conn (psycopg2.extensions.connection): A connection object to the database.\n",
    "        business_id (str): The unique ID of the POI.\n",
    "\n",
    "    Returns:\n",
    "        list: A list of tuples containing checkin count and name for the specified POI.\n",
    "    \"\"\"\n",
    "     sql = \"\"\"\n",
    "        SELECT checkin_count, name FROM pois_information WHERE id  = \\'\"\"\"+str(business_id)+ \"\"\"\\'\n",
    "    ;\"\"\"\n",
    "\n",
    "    result = executeQuery(conn, sql)\n",
    "    return result"
   ]
  },
  {
   "cell_type": "code",
   "execution_count": 10,
   "metadata": {},
   "outputs": [],
   "source": [
    "def getBinInformation(conn, business_id, bin_number):\n",
    "    \"\"\"\n",
    "    Retrieves information about bins centered around a specific Point of Interest (POI).\n",
    "\n",
    "    Args:\n",
    "        conn (psycopg2.extensions.connection): A connection object to the database.\n",
    "        business_id (str): The unique ID of the central POI.\n",
    "        bin_number (int): The bin number associated with the central POI.\n",
    "\n",
    "    Returns:\n",
    "        list: A list of tuples containing information about bins related to the specified POI.\n",
    "            Each tuple includes the following:\n",
    "            - fk_poi_id_context: The ID of the context POI.\n",
    "            - name: The name of the context POI.\n",
    "            - checkin_count: The check-in count for the context POI.\n",
    "            - distance_m: The distance between the central POI and the context POI (in meters).\n",
    "    \"\"\"\n",
    "    sql = \"\"\"\n",
    "        SELECT fk_poi_id_context, name, checkin_count, distance_m \n",
    "        FROM bins_information \n",
    "        WHERE fk_poi_id_center = \\'\"\"\"+str(business_id)+\"\"\"\\' AND fk_bin_number = \"\"\"+str(bin_number)+\"\"\";\"\"\"\n",
    "\n",
    "    result = executeQuery(conn, sql)\n",
    "    return result"
   ]
  },
  {
   "cell_type": "code",
   "execution_count": 13,
   "metadata": {
    "execution": {
     "iopub.execute_input": "2021-08-15T13:11:21.417954Z",
     "iopub.status.busy": "2021-08-15T13:11:21.417286Z",
     "iopub.status.idle": "2021-08-15T13:11:21.439736Z",
     "shell.execute_reply": "2021-08-15T13:11:21.438718Z",
     "shell.execute_reply.started": "2021-08-15T13:11:21.41786Z"
    }
   },
   "outputs": [],
   "source": [
    "def calculateBin(df, bin_number, w=0.5):\n",
    "    \"\"\"\n",
    "    Calculates the ITDL (Information Theoretic Distance Learning) for a given bin.\n",
    "\n",
    "    Args:\n",
    "        df (pandas.DataFrame): A DataFrame containing information about points of interest (POIs).\n",
    "        bin_number (int): The bin number for which to calculate ITDL.\n",
    "        w (float, optional): Weight parameter (default is 0.5).\n",
    "\n",
    "    Returns:\n",
    "        None: The function prints intermediate results during execution.\n",
    "    \"\"\"\n",
    "    print(\"executing bin:\", bin_number, \"\\tweight:\", w)\n",
    "\n",
    "    # Establish a connection to the database\n",
    "    connection = connect()\n",
    "\n",
    "    if connection is not None:\n",
    "        \n",
    "        # Initialize the ITDL dictionary\n",
    "        scITDL = {}\n",
    "        i = 0\n",
    "\n",
    "        # Iterate through central POIs\n",
    "        for id_01, poi in df.iterrows():\n",
    "            # Obtain information about categories and check-ins for the central POI\n",
    "            poi_information = getPOIInformation(connection, poi['business_id'])\n",
    "\n",
    "            # Obtain information about bins related to the central POI\n",
    "            bin_information = getBinInformation(connection, poi['business_id'], bin_number)\n",
    "            bin_information = pd.DataFrame(bin_information, columns=['business_id', 'category', 'checkin_count', 'distance_m'])\n",
    "\n",
    "            # Calculate parameters\n",
    "            sp = len(bin_information['business_id'].unique())  # Total number of POIs in the bin\n",
    "            sc = bin_information.drop_duplicates(subset='business_id')['checkin_count'].sum()  # Total check-ins in the bin\n",
    "\n",
    "            # Avoid division by zero\n",
    "            if sc != 0 and sp != 0:\n",
    "                for center_poi in poi_information:\n",
    "                    for id_02, row in bin_information.iterrows():\n",
    "                        cc = bin_information[bin_information['category'] == row['category']]['checkin_count'].sum()\n",
    "                        cp = bin_information[bin_information['category'] == row['category']]['category'].count()\n",
    "\n",
    "                        a = (1 - (cc / sc))\n",
    "                        u = (cp/sp)       # May result in 0\n",
    "\n",
    "                        if ((a > 0) and (u > 0)):\n",
    "                        \n",
    "                            A = -np.log2(a)\n",
    "                            U = -np.log2(u)\n",
    "                        \n",
    "                            aug = int(math.ceil((w * A) + ((1 - w) * U)))\n",
    "                        \n",
    "                            # Increase it by factor b\n",
    "                            for b in range(aug):\n",
    "                        \n",
    "                                scITDL[i] = {\n",
    "                                    'poi_id_center': poi['business_id'],\n",
    "                                    'center_poi': center_poi[1],\n",
    "                                    'poi_id_context': row['business_id'],\n",
    "                                    'context_poi': row['category'],\n",
    "                                    'distance-m': row['distance_m']\n",
    "                                }\n",
    "                                i = i + 1\n",
    "                        \n",
    "                        scITDL = pd.DataFrame.from_dict(scITDL, 'index')\n",
    "                        name = './austin-sl-tuple-n-itdl-' + str(bin_number) + 'bin-wgt' + str(w) + '-p.csv'\n",
    "                        scITDL.to_csv(name, index=False)\n",
    "                        closeConnection(connection)\n",
    "        \n",
    "    return None"
   ]
  },
  {
   "cell_type": "code",
   "execution_count": 1,
   "metadata": {},
   "outputs": [],
   "source": [
    "import csv\n",
    "\n",
    "def calculateBin_Disco(df, bin_number, w=0.5):\n",
    "    \"\"\"\n",
    "    Calculates the ITDL (Information Theoretic Distance Learning) for a given bin and saves the results directly to a CSV file.\n",
    "\n",
    "    Args:\n",
    "        df (pandas.DataFrame): A DataFrame containing information about points of interest (POIs).\n",
    "        bin_number (int): The bin number for which to calculate ITDL.\n",
    "        w (float, optional): Weight parameter (default is 0.5).\n",
    "\n",
    "    Returns:\n",
    "        None: The function prints intermediate results during execution and saves the results to a CSV file.\n",
    "    \"\"\"\n",
    "    print(\"executing bin:\", bin_number, \"\\tweight:\", w)\n",
    "\n",
    "    # File to save results directly to disk\n",
    "    name = './austin-sl-tuple-n-itdl-' + str(bin_number) + 'bin-wgt' + str(w) + '-p.csv'\n",
    "    csv_file = open(name, \"w\", newline='')\n",
    "    writer = csv.writer(csv_file, delimiter=',')\n",
    "    writer.writerow([\"poi_id_center\", \"center_poi\", \"poi_id_context\", \"context_poi\", \"distance-m\"])\n",
    "\n",
    "    # Establish a connection to the database\n",
    "    connection = connect()\n",
    "\n",
    "    if connection is not None:\n",
    "        # Iterate through central POIs\n",
    "        for id_01, poi in df.iterrows():\n",
    "            # Obtain information about categories and check-ins for the central POI\n",
    "            poi_information = getPOIInformation(connection, poi['business_id'])\n",
    "\n",
    "            # Obtain information about bins related to the central POI\n",
    "            bin_information = getBinInformation(connection, poi['business_id'], bin_number)\n",
    "            bin_information = pd.DataFrame(bin_information, columns=['business_id', 'category', 'checkin_count', 'distance_m'])\n",
    "\n",
    "            # Calculate parameters\n",
    "            sp = len(bin_information['business_id'].unique())  # Total number of POIs in the bin\n",
    "            sc = bin_information.drop_duplicates(subset='business_id')['checkin_count'].sum()  # Total check-ins in the bin\n",
    "\n",
    "            # Avoid division by zero\n",
    "            if sc != 0 and sp != 0:\n",
    "                for center_poi in poi_information:\n",
    "                    for id_02, row in bin_information.iterrows():\n",
    "                        cc = bin_information[bin_information['category'] == row['category']]['checkin_count'].sum()\n",
    "                        cp = bin_information[bin_information['category'] == row['category']]['category'].count()\n",
    "\n",
    "                        a = (1 - (cc/sc))  # May result in 0\n",
    "                        u = (cp/sp)        # May result in 0\n",
    "                        \n",
    "                        if ((a > 0) and (u > 0)):\n",
    "                        \n",
    "                            A = -np.log2(a)\n",
    "                            U = -np.log2(u)\n",
    "                        \n",
    "                            aug = int(math.ceil((w * A) + ((1 - w) * U)))\n",
    "                        \n",
    "                            # Increase it by factor b\n",
    "                            for b in range(aug):\n",
    "                                line = [str(poi['business_id']), str(center_poi[1]), str(row['business_id']), str(row['category']), str(row['distance_m'])]\n",
    "                                writer.writerow(line)\n",
    "        \n",
    "        csv_file.close()\n",
    "        closeConnection(connection)\n",
    "        \n",
    "    return None"
   ]
  },
  {
   "cell_type": "markdown",
   "metadata": {},
   "source": [
    "# Binary Relations Generation"
   ]
  },
  {
   "cell_type": "code",
   "execution_count": 14,
   "metadata": {
    "execution": {
     "iopub.execute_input": "2021-08-15T13:11:41.187138Z",
     "iopub.status.busy": "2021-08-15T13:11:41.186606Z",
     "iopub.status.idle": "2021-08-15T13:11:41.264865Z",
     "shell.execute_reply": "2021-08-15T13:11:41.264018Z",
     "shell.execute_reply.started": "2021-08-15T13:11:41.187099Z"
    }
   },
   "outputs": [
    {
     "name": "stdout",
     "output_type": "stream",
     "text": [
      "(22399, 7)\n",
      "(22399, 7)\n"
     ]
    },
    {
     "data": {
      "text/html": [
       "<div>\n",
       "<style scoped>\n",
       "    .dataframe tbody tr th:only-of-type {\n",
       "        vertical-align: middle;\n",
       "    }\n",
       "\n",
       "    .dataframe tbody tr th {\n",
       "        vertical-align: top;\n",
       "    }\n",
       "\n",
       "    .dataframe thead th {\n",
       "        text-align: right;\n",
       "    }\n",
       "</style>\n",
       "<table border=\"1\" class=\"dataframe\">\n",
       "  <thead>\n",
       "    <tr style=\"text-align: right;\">\n",
       "      <th></th>\n",
       "      <th>business_id</th>\n",
       "      <th>city</th>\n",
       "      <th>state</th>\n",
       "      <th>latitude</th>\n",
       "      <th>longitude</th>\n",
       "      <th>categories</th>\n",
       "      <th>checkin_count</th>\n",
       "    </tr>\n",
       "  </thead>\n",
       "  <tbody>\n",
       "    <tr>\n",
       "      <th>0</th>\n",
       "      <td>N3_Gs3DnX4k9SgpwJxdEfw</td>\n",
       "      <td>Austin</td>\n",
       "      <td>TX</td>\n",
       "      <td>30.346169</td>\n",
       "      <td>-97.711458</td>\n",
       "      <td>Shopping, Jewelry Repair, Appraisal Services, ...</td>\n",
       "      <td>14</td>\n",
       "    </tr>\n",
       "    <tr>\n",
       "      <th>1</th>\n",
       "      <td>tXvdYGvlEceDljN8gt2_3Q</td>\n",
       "      <td>Austin</td>\n",
       "      <td>TX</td>\n",
       "      <td>30.172706</td>\n",
       "      <td>-97.799920</td>\n",
       "      <td>Barbers, Beauty &amp; Spas</td>\n",
       "      <td>1</td>\n",
       "    </tr>\n",
       "    <tr>\n",
       "      <th>2</th>\n",
       "      <td>nTIhpR7MhsALPwg_Hh14EA</td>\n",
       "      <td>Austin</td>\n",
       "      <td>TX</td>\n",
       "      <td>30.326377</td>\n",
       "      <td>-97.704543</td>\n",
       "      <td>Hotels, Hotels &amp; Travel, Event Planning &amp; Serv...</td>\n",
       "      <td>475</td>\n",
       "    </tr>\n",
       "    <tr>\n",
       "      <th>3</th>\n",
       "      <td>8XyEpVdAO0o6iVkVxkWosQ</td>\n",
       "      <td>Austin</td>\n",
       "      <td>TX</td>\n",
       "      <td>30.246465</td>\n",
       "      <td>-97.778738</td>\n",
       "      <td>Home Services, Real Estate, Property Management</td>\n",
       "      <td>0</td>\n",
       "    </tr>\n",
       "    <tr>\n",
       "      <th>4</th>\n",
       "      <td>NVfOn7TdnHbaGH97CVB_Qg</td>\n",
       "      <td>Austin</td>\n",
       "      <td>TX</td>\n",
       "      <td>30.244902</td>\n",
       "      <td>-97.857409</td>\n",
       "      <td>Chiropractors, Health &amp; Medical</td>\n",
       "      <td>33</td>\n",
       "    </tr>\n",
       "  </tbody>\n",
       "</table>\n",
       "</div>"
      ],
      "text/plain": [
       "              business_id    city state   latitude  longitude  \\\n",
       "0  N3_Gs3DnX4k9SgpwJxdEfw  Austin    TX  30.346169 -97.711458   \n",
       "1  tXvdYGvlEceDljN8gt2_3Q  Austin    TX  30.172706 -97.799920   \n",
       "2  nTIhpR7MhsALPwg_Hh14EA  Austin    TX  30.326377 -97.704543   \n",
       "3  8XyEpVdAO0o6iVkVxkWosQ  Austin    TX  30.246465 -97.778738   \n",
       "4  NVfOn7TdnHbaGH97CVB_Qg  Austin    TX  30.244902 -97.857409   \n",
       "\n",
       "                                          categories  checkin_count  \n",
       "0  Shopping, Jewelry Repair, Appraisal Services, ...             14  \n",
       "1                             Barbers, Beauty & Spas              1  \n",
       "2  Hotels, Hotels & Travel, Event Planning & Serv...            475  \n",
       "3    Home Services, Real Estate, Property Management              0  \n",
       "4                    Chiropractors, Health & Medical             33  "
      ]
     },
     "execution_count": 14,
     "metadata": {},
     "output_type": "execute_result"
    }
   ],
   "source": [
    "#POIs CSV Information\n",
    "pois_file_name = './austin-ml-updated.csv'\n",
    "df = pd.read_csv(pois_file_name)\n",
    "print(df.shape)\n",
    "df = df.dropna()\n",
    "print(df.shape)\n",
    "df.head()"
   ]
  },
  {
   "cell_type": "markdown",
   "metadata": {},
   "source": [
    "## iteractive ITDL"
   ]
  },
  {
   "cell_type": "code",
   "execution_count": 16,
   "metadata": {},
   "outputs": [
    {
     "name": "stdout",
     "output_type": "stream",
     "text": [
      "executing bin: 0 \tweight: 0.5\n"
     ]
    }
   ],
   "source": [
    "for bin in range(0, 1):\n",
    "    calculateBin_Disco(df, bin, 0.5)"
   ]
  },
  {
   "cell_type": "markdown",
   "metadata": {},
   "source": [
    "## Parallel ITDL"
   ]
  },
  {
   "cell_type": "code",
   "execution_count": null,
   "metadata": {
    "execution": {
     "iopub.execute_input": "2021-08-10T21:50:03.236761Z",
     "iopub.status.busy": "2021-08-10T21:50:03.236417Z",
     "iopub.status.idle": "2021-08-10T23:51:59.673123Z",
     "shell.execute_reply": "2021-08-10T23:51:59.671871Z",
     "shell.execute_reply.started": "2021-08-10T21:50:03.236732Z"
    }
   },
   "outputs": [
    {
     "name": "stdout",
     "output_type": "stream",
     "text": [
      "Number of processors:  16\n",
      "executing bin:executing bin:  1211  \tweight:\tweight:  0.50.5\n",
      "\n",
      "executing bin: 13 \tweight: 0.5\n",
      "executing bin: 14 \tweight: 0.5\n",
      "executing bin: 15 \tweight: 0.5\n",
      "executing bin: 16 \tweight: 0.5\n",
      "executing bin: 17 \tweight: 0.5\n",
      "executing bin: 18 \tweight: 0.5\n",
      "0.5executing bin: 19 \tweight: \n",
      "executing bin: 20 \tweight: 0.5\n"
     ]
    }
   ],
   "source": [
    "import multiprocessing as mp\n",
    "print(\"Number of processors: \", mp.cpu_count())\n",
    "\n",
    "\n",
    "# Step 1: Init multiprocessing.Pool()\n",
    "pool = mp.Pool(int(mp.cpu_count()))\n",
    "\n",
    "# Step 2: `pool.apply` the `howmany_within_range()`\n",
    "bins = range(0, 5)\n",
    "\n",
    "pool.starmap(calculateBin_Disco, [(df, bin_number, 0.5) for bin_number in bins])\n",
    "\n",
    "# Step 3: Don't forget to close\n",
    "pool.close()\n",
    "\n",
    "print('Process finished.')"
   ]
  }
 ],
 "metadata": {
  "interpreter": {
   "hash": "1c960ebc558cb47a91b30b6a69e09ee33d8511507a0164b187e789d12f3a22a9"
  },
  "kernelspec": {
   "display_name": "Python 3 (ipykernel)",
   "language": "python",
   "name": "python3"
  },
  "language_info": {
   "codemirror_mode": {
    "name": "ipython",
    "version": 3
   },
   "file_extension": ".py",
   "mimetype": "text/x-python",
   "name": "python",
   "nbconvert_exporter": "python",
   "pygments_lexer": "ipython3",
   "version": "3.8.16"
  }
 },
 "nbformat": 4,
 "nbformat_minor": 4
}
