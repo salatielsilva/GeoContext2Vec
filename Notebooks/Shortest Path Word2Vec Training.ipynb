{
 "cells": [
  {
   "cell_type": "markdown",
   "metadata": {},
   "source": [
    "# Libraries"
   ]
  },
  {
   "cell_type": "code",
   "execution_count": 3,
   "metadata": {},
   "outputs": [],
   "source": [
    "import pandas as pd\n",
    "import numpy as np\n",
    "import csv\n",
    "import multiprocessing\n",
    "from gensim.models import Word2Vec\n",
    "from gensim.models import KeyedVectors\n",
    "from time import time  # To time our operations\n",
    "\n",
    "import logging  # Setting up the loggings to monitor gensim\n",
    "logging.basicConfig(format=\"%(levelname)s - %(asctime)s: %(message)s\", datefmt= '%H:%M:%S', level=logging.INFO)"
   ]
  },
  {
   "cell_type": "markdown",
   "metadata": {},
   "source": [
    "# Training Pipeline"
   ]
  },
  {
   "cell_type": "code",
   "execution_count": null,
   "metadata": {},
   "outputs": [],
   "source": [
    "cores = multiprocessing.cpu_count()   # Number of CPU cores used for training\n",
    "t = time()  # Time of the process\n",
    "\n",
    "# Looping through different window sizes\n",
    "for wnd in range(10, 100, 10):\n",
    "    print('Training model k:', wnd)\n",
    "\n",
    "    file_name = './austin-shortest_path_corpus-zoning-k' + str(wnd) + '-FT.csv'\n",
    "\n",
    "    print(\"Loading file:\", file_name)\n",
    "    tuples = pd.read_parquet(file_name)\n",
    "    # Removing damaged rows\n",
    "    tuples = tuples.dropna()\n",
    "    tuples = tuples[['center_poi', 'context_poi']]\n",
    "    sentences = tuples.values.tolist()\n",
    "\n",
    "    # Creating skip-gram model\n",
    "    p2v_modeltp = Word2Vec(min_count=1,\n",
    "                           window=1,\n",
    "                           sg=1,  # CBOW = 0, SKIPGRAM = 1\n",
    "                           size=70,\n",
    "                           sample=6e-5,\n",
    "                           alpha=0.03,\n",
    "                           min_alpha=0.0007,\n",
    "                           negative=20,\n",
    "                           workers=cores-1)\n",
    "\n",
    "    # Building vocabulary\n",
    "    p2v_modeltp.build_vocab(sentences, progress_per=10000)\n",
    "\n",
    "    # Training the model\n",
    "    p2v_modeltp.train(sentences, total_examples=p2v_modeltp.corpus_count, epochs=20, report_delay=1)\n",
    "\n",
    "    model_name = './austin-shortest_path_corpus-zoning-k' + str(wnd) + '-FT.model'\n",
    "\n",
    "    print('Saving file:', model_name)\n",
    "    p2v_modeltp.save(model_name)"
   ]
  },
  {
   "cell_type": "code",
   "execution_count": 8,
   "metadata": {},
   "outputs": [
    {
     "name": "stderr",
     "output_type": "stream",
     "text": [
      "INFO - 21:36:36: precomputing L2-norms of word weight vectors\n"
     ]
    },
    {
     "data": {
      "text/plain": [
       "[('Gutter Services', 0.9558095932006836),\n",
       " ('Plumbing', 0.9509575366973877),\n",
       " ('Septic Services', 0.949760913848877),\n",
       " ('Churches', 0.9384828805923462),\n",
       " ('Flea Markets', 0.932166576385498),\n",
       " ('Marinas', 0.9298552870750427),\n",
       " ('Water Heater Installation/Repair', 0.9289876818656921),\n",
       " ('Bus Rental', 0.925334095954895),\n",
       " ('Amusement Parks', 0.9248497486114502),\n",
       " ('Hydro-jetting', 0.9221491813659668)]"
      ]
     },
     "execution_count": 8,
     "metadata": {},
     "output_type": "execute_result"
    }
   ],
   "source": [
    "p2v_modeltp.wv.most_similar(positive=['Zoos'])"
   ]
  },
  {
   "cell_type": "code",
   "execution_count": null,
   "metadata": {},
   "outputs": [],
   "source": []
  }
 ],
 "metadata": {
  "kernelspec": {
   "display_name": "Python 3 (ipykernel)",
   "language": "python",
   "name": "python3"
  },
  "language_info": {
   "codemirror_mode": {
    "name": "ipython",
    "version": 3
   },
   "file_extension": ".py",
   "mimetype": "text/x-python",
   "name": "python",
   "nbconvert_exporter": "python",
   "pygments_lexer": "ipython3",
   "version": "3.8.16"
  }
 },
 "nbformat": 4,
 "nbformat_minor": 4
}
