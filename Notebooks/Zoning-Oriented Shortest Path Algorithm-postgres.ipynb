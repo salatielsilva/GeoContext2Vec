{
 "cells": [
  {
   "cell_type": "markdown",
   "metadata": {},
   "source": [
    "# Dependências"
   ]
  },
  {
   "cell_type": "code",
   "execution_count": 21,
   "metadata": {},
   "outputs": [],
   "source": [
    "#!pip install numba==0.49.1\n",
    "#!pip install numba==0.55.0\n",
    "#!pip install numba\n",
    "#!pip uninstall numba -y\n",
    "#!pip install llvmlite"
   ]
  },
  {
   "cell_type": "code",
   "execution_count": 22,
   "metadata": {},
   "outputs": [],
   "source": [
    "#!pip install llvmlite --ignore-installed"
   ]
  },
  {
   "cell_type": "code",
   "execution_count": 23,
   "metadata": {},
   "outputs": [],
   "source": [
    "#!pip install gensim==3.6.0\n",
    "#!pip install binary gensim==3.6.0"
   ]
  },
  {
   "cell_type": "code",
   "execution_count": 24,
   "metadata": {},
   "outputs": [],
   "source": [
    "#!pip3 uninstall numpy -y"
   ]
  },
  {
   "cell_type": "code",
   "execution_count": 25,
   "metadata": {},
   "outputs": [],
   "source": [
    "#!pip install numpy"
   ]
  },
  {
   "cell_type": "markdown",
   "metadata": {},
   "source": [
    "# Bibliotecas"
   ]
  },
  {
   "cell_type": "code",
   "execution_count": 2,
   "metadata": {},
   "outputs": [],
   "source": [
    "import pandas as pd\n",
    "import numpy as np\n",
    "import psycopg2 as postgres\n",
    "import psycopg2.extras\n",
    "import math\n",
    "import csv\n",
    "import random\n",
    "\n",
    "from gensim.models import Word2Vec\n",
    "from tqdm import tqdm\n",
    "from sshtunnel import SSHTunnelForwarder\n",
    "from tqdm import tqdm\n",
    "\n",
    "import numba\n",
    "from numba import njit\n",
    "#from numba import cuda"
   ]
  },
  {
   "cell_type": "markdown",
   "metadata": {},
   "source": [
    "# Funções"
   ]
  },
  {
   "cell_type": "markdown",
   "metadata": {},
   "source": [
    "## Utilidades"
   ]
  },
  {
   "cell_type": "code",
   "execution_count": 3,
   "metadata": {},
   "outputs": [],
   "source": [
    "def executeQuery(conn, sql):\n",
    "    \"\"\"\n",
    "    Executes a SQL query on a PostgreSQL database.\n",
    "\n",
    "    Args:\n",
    "        conn (psycopg2.extensions.connection): A connection object to the database.\n",
    "        sql (str): The SQL query to execute.\n",
    "\n",
    "    Returns:\n",
    "        list: A list of records (tuples) retrieved from the database.\n",
    "    \"\"\"\n",
    "    record = None\n",
    "    try:\n",
    "        cur = conn.cursor()\n",
    "        cur.execute(sql)\n",
    "        record = cur.fetchall()\n",
    "        cur.close()\n",
    "    except psycopg2.Error as e:\n",
    "        print(e)\n",
    "        cur.execute(\"ROLLBACK\")\n",
    "        cur.close()\n",
    "    return record"
   ]
  },
  {
   "cell_type": "code",
   "execution_count": 4,
   "metadata": {},
   "outputs": [],
   "source": [
    "def executeInsert(conn, sql):\n",
    "    \"\"\"\n",
    "    Executes an SQL INSERT statement on a PostgreSQL database.\n",
    "\n",
    "    Args:\n",
    "        conn (psycopg2.extensions.connection): A connection object to the database.\n",
    "        sql (str): The SQL INSERT statement to execute.\n",
    "\n",
    "    Returns:\n",
    "        bool: True if the insertion was successful, False otherwise.\n",
    "    \"\"\"\n",
    "    success = False\n",
    "    try:\n",
    "        cur = conn.cursor()\n",
    "        cur.execute(sql)\n",
    "        conn.commit()\n",
    "        cur.close()\n",
    "        success = True\n",
    "    except psycopg2.Error as e:\n",
    "        print(e)\n",
    "        cur.execute(\"ROLLBACK\")\n",
    "        cur.close()\n",
    "\n",
    "    return success"
   ]
  },
  {
   "cell_type": "code",
   "execution_count": 5,
   "metadata": {},
   "outputs": [],
   "source": [
    "def getPOIInformation(conn, business_id):\n",
    "    \"\"\"\n",
    "    Retrieves information about a Point of Interest (POI) based on its ID.\n",
    "\n",
    "    Args:\n",
    "        conn (psycopg2.extensions.connection): A connection object to the database.\n",
    "        business_id (str): The unique ID of the POI.\n",
    "\n",
    "    Returns:\n",
    "        list: A list of tuples containing checkin count and name for the specified POI.\n",
    "    \"\"\"\n",
    "     sql = \"\"\"\n",
    "        SELECT checkin_count, name FROM pois_information WHERE id  = \\'\"\"\"+str(business_id)+ \"\"\"\\'\n",
    "    ;\"\"\"\n",
    "\n",
    "    result = executeQuery(conn, sql)\n",
    "    return result"
   ]
  },
  {
   "cell_type": "code",
   "execution_count": 15,
   "metadata": {},
   "outputs": [],
   "source": [
    "def getZoningInformation(conn, object_id):\n",
    "    \"\"\"\n",
    "    Retrieves zoning information based on an object ID.\n",
    "\n",
    "    Args:\n",
    "        conn (psycopg2.extensions.connection): A connection object to the database.\n",
    "        object_id (str): The unique object ID associated with the zoning information.\n",
    "\n",
    "    Returns:\n",
    "        list: A list of zoning IDs corresponding to the specified object ID.\n",
    "    \"\"\"\n",
    "    sql = \"\"\"\n",
    "        SELECT id FROM zoning_pois WHERE objectid  = \\'\"\"\"+str(object_id)+ \"\"\"\\'\n",
    "    ;\"\"\"\n",
    "\n",
    "    result = executeQuery(conn, sql)\n",
    "\n",
    "    return result"
   ]
  },
  {
   "cell_type": "code",
   "execution_count": 6,
   "metadata": {},
   "outputs": [],
   "source": [
    "def getBinPOIsInformation(conn, business_id, bin_number):\n",
    "\n",
    "    \"\"\"\n",
    "    Retrieves information about points of interest (POIs) within a specific bin centered around a POI.\n",
    "\n",
    "    Args:\n",
    "        conn (psycopg2.extensions.connection): A connection object to the database.\n",
    "        business_id (str): The unique ID of the central POI.\n",
    "        bin_number (int): The bin number associated with the central POI.\n",
    "\n",
    "    Returns:\n",
    "        list: A list of tuples containing information about POIs related to the specified central POI.\n",
    "            Each tuple includes the following:\n",
    "            - id: The ID of the context POI.\n",
    "            - name: The name of the context POI.\n",
    "            - level: The level of the context POI.\n",
    "            - checkin_count: The check-in count for the context POI.\n",
    "            - distance_m: The distance between the central POI and the context POI (in meters).\n",
    "    \"\"\"\n",
    "\n",
    "    sql = \"\"\"\n",
    "        SELECT fk_poi_id_context as id, name, level, checkin_count, distance_m \n",
    "        FROM bins_pois_information \n",
    "        WHERE fk_poi_id_center = \\'\"\"\"+str(business_id)+\"\"\"\\' AND fk_bin_number = \"\"\"+str(bin_number)+\"\"\" order by distance_m asc;\"\"\"\n",
    "\n",
    "    result = executeQuery(conn, sql)\n",
    "\n",
    "    return result"
   ]
  },
  {
   "cell_type": "code",
   "execution_count": 7,
   "metadata": {},
   "outputs": [],
   "source": [
    "def getPOIsDistance(conn, center_poi_id, context_poi_id):\n",
    "    \n",
    "    \"\"\"\n",
    "    Retrieves the distance between two points of interest (POIs) based on their IDs.\n",
    "\n",
    "    Args:\n",
    "        conn (psycopg2.extensions.connection): A connection object to the database.\n",
    "        center_poi_id (str): The unique ID of the central POI.\n",
    "        context_poi_id (str): The unique ID of the context POI.\n",
    "\n",
    "    Returns:\n",
    "        list: A list containing the distance (in meters) between the specified POIs.\n",
    "    \"\"\"\n",
    "    \n",
    "    sql = \"\"\"\n",
    "        SELECT distance_m\n",
    "        FROM has_context_poi \n",
    "        WHERE fk_poi_id_center = \\'\"\"\"+str(center_poi_id)+\"\"\"\\' AND fk_poi_id_context = \"\"\"+str(context_poi_id)+\"\"\";\"\"\"\n",
    "\n",
    "    result = executeQuery(conn, sql)\n",
    "\n",
    "    return result"
   ]
  },
  {
   "cell_type": "code",
   "execution_count": 11,
   "metadata": {},
   "outputs": [],
   "source": [
    "# This function generates a segment by iteratively inserting waypoints (W) into an existing path (POI_path).\n",
    "# The goal is to find the optimal path that minimizes the total distance while ensuring that the new waypoints are properly placed.\n",
    "# The function returns the final optimized path.\n",
    "\n",
    "def generate_segment(W, L, POI_path):\n",
    "    \"\"\"\n",
    "    Generates an optimized path by iteratively inserting waypoints (W) into an existing path (POI_path).\n",
    "\n",
    "    Args:\n",
    "        W (list): List of waypoints to insert.\n",
    "        L (float): Total distance of the initial path (POI_path).\n",
    "        POI_path (list): Initial path containing points of interest (POIs).\n",
    "\n",
    "    Returns:\n",
    "        list: The final optimized path after inserting waypoints.\n",
    "    \"\"\"\n",
    "    final_path = [pt for pt in POI_path]\n",
    "\n",
    "    for wp in W:\n",
    "        shortest_path = np.inf\n",
    "        optimal_list = None\n",
    "\n",
    "        # Test WP at all positions between 1 and len(list)-2\n",
    "        for j in range(1, len(final_path)):\n",
    "            local_list = [fp for fp in final_path]\n",
    "            local_list.insert(j, wp)\n",
    "\n",
    "            p_idx = local_list[j-1] \n",
    "            c_idx = local_list[j]\n",
    "            n_idx = local_list[j+1]\n",
    "\n",
    "            # Remove the old segment\n",
    "            segment_distance = L - distances_matrix[p_idx][n_idx]\n",
    "\n",
    "            # Calculate the size of the new segment\n",
    "            dst = segment_distance + distances_matrix[p_idx][c_idx] + distances_matrix[c_idx][n_idx]\n",
    "\n",
    "            if dst < shortest_path:\n",
    "                shortest_path = dst\n",
    "                optimal_list = [ll for ll in local_list] \n",
    "            \n",
    "        final_path = [ol for ol in optimal_list] \n",
    "        L = shortest_path\n",
    "    \n",
    "    return final_path"
   ]
  },
  {
   "cell_type": "code",
   "execution_count": 12,
   "metadata": {},
   "outputs": [],
   "source": [
    "# This function is optimized to run on a GPU using Numba.\n",
    "# It generates an optimized path by iteratively inserting waypoints (W) into an existing path (POI_path).\n",
    "# The goal is to minimize the total distance while ensuring that the new waypoints are properly placed.\n",
    "# The function returns the final optimized path.\n",
    "\n",
    "@njit\n",
    "def generate_segment_numba(W, L, POI_path):\n",
    "    \"\"\"\n",
    "    Generates an optimized path by iteratively inserting waypoints (W) into an existing path (POI_path).\n",
    "\n",
    "    Args:\n",
    "        W (list): List of waypoints to insert.\n",
    "        L (float): Total distance of the initial path (POI_path).\n",
    "        POI_path (list): Initial path containing points of interest (POIs).\n",
    "\n",
    "    Returns:\n",
    "        list: The final optimized path after inserting waypoints.\n",
    "    \"\"\"\n",
    "    final_path = [pt for pt in POI_path]\n",
    "\n",
    "    for wp in W:\n",
    "        shortest_path = np.inf\n",
    "        optimal_list = None\n",
    "\n",
    "        # Test WP at all positions between 1 and len(list)-2\n",
    "        for j in range(1, len(final_path)):\n",
    "            local_list = [fp for fp in final_path]\n",
    "            local_list.insert(j, wp)\n",
    "\n",
    "            p_idx = local_list[j-1] \n",
    "            c_idx = local_list[j]\n",
    "            n_idx = local_list[j+1]\n",
    "\n",
    "            # Remove the old segment\n",
    "            segment_distance = L - distances_matrix[p_idx][n_idx]\n",
    "\n",
    "            # Calculate the size of the new segment\n",
    "            dst = segment_distance + distances_matrix[p_idx][c_idx] + distances_matrix[c_idx][n_idx]\n",
    "\n",
    "            if dst < shortest_path:\n",
    "                shortest_path = dst\n",
    "                optimal_list = [ll for ll in local_list] \n",
    "            \n",
    "        final_path = [ol for ol in optimal_list] \n",
    "        L = shortest_path\n",
    "    \n",
    "    return final_path"
   ]
  },
  {
   "cell_type": "code",
   "execution_count": 47,
   "metadata": {},
   "outputs": [],
   "source": [
    "# This function analyzes POIs in a context, finds the two most distant ones, and constructs the shortest path between them.\n",
    "\n",
    "def Shortest_Path_FT(object_id, df):\n",
    "    \"\"\"\n",
    "    Analyzes POIs in a context, finds the two most distant ones, and constructs the shortest path between them.\n",
    "\n",
    "    Args:\n",
    "        object_id (str): The unique ID of the context POI.\n",
    "        df (pandas.DataFrame): A DataFrame containing information about points of interest (POIs).\n",
    "\n",
    "    Returns:\n",
    "        list: The shortest path between the two most distant POIs.\n",
    "    \"\"\"\n",
    "    POI_path_bi = []\n",
    "    POI_path_fl = []\n",
    "\n",
    "    try:\n",
    "        with SSHTunnelForwarder(\n",
    "            ('localhost', 22),\n",
    "            ssh_username=\"postgres\",\n",
    "            ssh_password=\"root\",\n",
    "            remote_bind_address=('localhost', 5432)) as server:\n",
    "\n",
    "            server.start()\n",
    "\n",
    "            params = {'database': 'austin_test',\n",
    "                      'user': 'postgres',\n",
    "                      'password': 'root',\n",
    "                      'host': 'localhost',\n",
    "                      'port': server.local_bind_port\n",
    "                      }\n",
    "\n",
    "            connection = psycopg2.connect(**params)\n",
    "\n",
    "            # Obtain zoning information for the central POI\n",
    "            poi_information = getZoningInformation(connection, object_id)\n",
    "\n",
    "            # Execute the process if there is sufficient data (at least two POIs)\n",
    "            if len(poi_information) >= 2:\n",
    "                columns = list(dict(poi_information[0]).keys())\n",
    "                poi_information = pd.DataFrame(poi_information, columns=columns)\n",
    "\n",
    "                # Shortest Path construction\n",
    "                pois_idx = []\n",
    "                for i, cp_idx in poi_information.iterrows():\n",
    "                    pois_idx.append(df.query(\"business_id=='\" + str(cp_idx['id']) + \"'\").index[0])\n",
    "\n",
    "                # Find Ps and Pe (the two most distant POIs)\n",
    "                max_distances = []\n",
    "                for poi_idx_01 in pois_idx:\n",
    "                    for poi_idx_02 in pois_idx:\n",
    "                        if poi_idx_01 != poi_idx_02:\n",
    "                            max_distances.append((poi_idx_01, poi_idx_02, distances_matrix[poi_idx_01][poi_idx_02]))\n",
    "\n",
    "                furthest_pair = max_distances[0]\n",
    "                for md in max_distances:\n",
    "                    if md[2] > furthest_pair[2]:\n",
    "                        furthest_pair = md\n",
    "\n",
    "                POI_path = [furthest_pair[0], furthest_pair[1]]\n",
    "                L = furthest_pair[2]\n",
    "\n",
    "                # A is all POIs\n",
    "                W = set(pois_idx).difference(set(POI_path))\n",
    "\n",
    "                # Adjust variables for the generate_segment function\n",
    "                W = list(W)\n",
    "\n",
    "                # Add the POI from A that has the shortest path in L and update W\n",
    "                if len(W) > 0:\n",
    "                    # Not optimized\n",
    "                    # POI_path_fl = generate_segment(W, L, POI_path)\n",
    "                    \n",
    "                    # Optimized using Numba\n",
    "                    POI_path_fl = generate_segment_numba(W, L, POI_path)\n",
    "                else:\n",
    "                    POI_path_fl = POI_path.copy()\n",
    "\n",
    "                POI_path_bi = [df.iloc[pp]['business_id'] for pp in POI_path_fl]\n",
    "\n",
    "            connection.close()\n",
    "\n",
    "    except Exception as e:\n",
    "        print(str(e))\n",
    "\n",
    "    return POI_path_bi"
   ]
  },
  {
   "cell_type": "markdown",
   "metadata": {},
   "source": [
    "# Corpus Generation Process"
   ]
  },
  {
   "cell_type": "code",
   "execution_count": 17,
   "metadata": {
    "tags": []
   },
   "outputs": [
    {
     "name": "stdout",
     "output_type": "stream",
     "text": [
      "(22399, 7)\n",
      "(22399, 7)\n"
     ]
    },
    {
     "data": {
      "text/html": [
       "<div>\n",
       "<style scoped>\n",
       "    .dataframe tbody tr th:only-of-type {\n",
       "        vertical-align: middle;\n",
       "    }\n",
       "\n",
       "    .dataframe tbody tr th {\n",
       "        vertical-align: top;\n",
       "    }\n",
       "\n",
       "    .dataframe thead th {\n",
       "        text-align: right;\n",
       "    }\n",
       "</style>\n",
       "<table border=\"1\" class=\"dataframe\">\n",
       "  <thead>\n",
       "    <tr style=\"text-align: right;\">\n",
       "      <th></th>\n",
       "      <th>business_id</th>\n",
       "      <th>city</th>\n",
       "      <th>state</th>\n",
       "      <th>latitude</th>\n",
       "      <th>longitude</th>\n",
       "      <th>categories</th>\n",
       "      <th>checkin_count</th>\n",
       "    </tr>\n",
       "  </thead>\n",
       "  <tbody>\n",
       "    <tr>\n",
       "      <th>0</th>\n",
       "      <td>N3_Gs3DnX4k9SgpwJxdEfw</td>\n",
       "      <td>Austin</td>\n",
       "      <td>TX</td>\n",
       "      <td>30.346169</td>\n",
       "      <td>-97.711458</td>\n",
       "      <td>Shopping, Jewelry Repair, Appraisal Services, ...</td>\n",
       "      <td>14</td>\n",
       "    </tr>\n",
       "    <tr>\n",
       "      <th>1</th>\n",
       "      <td>tXvdYGvlEceDljN8gt2_3Q</td>\n",
       "      <td>Austin</td>\n",
       "      <td>TX</td>\n",
       "      <td>30.172706</td>\n",
       "      <td>-97.799920</td>\n",
       "      <td>Barbers, Beauty &amp; Spas</td>\n",
       "      <td>1</td>\n",
       "    </tr>\n",
       "    <tr>\n",
       "      <th>2</th>\n",
       "      <td>nTIhpR7MhsALPwg_Hh14EA</td>\n",
       "      <td>Austin</td>\n",
       "      <td>TX</td>\n",
       "      <td>30.326377</td>\n",
       "      <td>-97.704543</td>\n",
       "      <td>Hotels, Hotels &amp; Travel, Event Planning &amp; Serv...</td>\n",
       "      <td>475</td>\n",
       "    </tr>\n",
       "    <tr>\n",
       "      <th>3</th>\n",
       "      <td>8XyEpVdAO0o6iVkVxkWosQ</td>\n",
       "      <td>Austin</td>\n",
       "      <td>TX</td>\n",
       "      <td>30.246465</td>\n",
       "      <td>-97.778738</td>\n",
       "      <td>Home Services, Real Estate, Property Management</td>\n",
       "      <td>0</td>\n",
       "    </tr>\n",
       "    <tr>\n",
       "      <th>4</th>\n",
       "      <td>NVfOn7TdnHbaGH97CVB_Qg</td>\n",
       "      <td>Austin</td>\n",
       "      <td>TX</td>\n",
       "      <td>30.244902</td>\n",
       "      <td>-97.857409</td>\n",
       "      <td>Chiropractors, Health &amp; Medical</td>\n",
       "      <td>33</td>\n",
       "    </tr>\n",
       "  </tbody>\n",
       "</table>\n",
       "</div>"
      ],
      "text/plain": [
       "              business_id    city state   latitude  longitude  \\\n",
       "0  N3_Gs3DnX4k9SgpwJxdEfw  Austin    TX  30.346169 -97.711458   \n",
       "1  tXvdYGvlEceDljN8gt2_3Q  Austin    TX  30.172706 -97.799920   \n",
       "2  nTIhpR7MhsALPwg_Hh14EA  Austin    TX  30.326377 -97.704543   \n",
       "3  8XyEpVdAO0o6iVkVxkWosQ  Austin    TX  30.246465 -97.778738   \n",
       "4  NVfOn7TdnHbaGH97CVB_Qg  Austin    TX  30.244902 -97.857409   \n",
       "\n",
       "                                          categories  checkin_count  \n",
       "0  Shopping, Jewelry Repair, Appraisal Services, ...             14  \n",
       "1                             Barbers, Beauty & Spas              1  \n",
       "2  Hotels, Hotels & Travel, Event Planning & Serv...            475  \n",
       "3    Home Services, Real Estate, Property Management              0  \n",
       "4                    Chiropractors, Health & Medical             33  "
      ]
     },
     "execution_count": 17,
     "metadata": {},
     "output_type": "execute_result"
    }
   ],
   "source": [
    "pois_file_name = './austin-ml-updated.csv'\n",
    "poi_df = pd.read_csv(pois_file_name)\n",
    "print(poi_df.shape)\n",
    "poi_df = poi_df.dropna()\n",
    "print(poi_df.shape)\n",
    "poi_df.head()"
   ]
  },
  {
   "cell_type": "code",
   "execution_count": 18,
   "metadata": {},
   "outputs": [],
   "source": [
    "# Calculating the distance between all POIs.\n",
    "from scipy.spatial.distance import cdist\n",
    "distances_matrix = cdist(poi_df[['latitude', 'longitude']].values, poi_df[['latitude', 'longitude']].values)\n",
    "distances_matrix[0]\n",
    "Código gerado por IA. Examine e use "
   ]
  },
  {
   "cell_type": "code",
   "execution_count": 51,
   "metadata": {},
   "outputs": [
    {
     "name": "stdout",
     "output_type": "stream",
     "text": [
      "(105, 1)\n"
     ]
    },
    {
     "data": {
      "text/html": [
       "<div>\n",
       "<style scoped>\n",
       "    .dataframe tbody tr th:only-of-type {\n",
       "        vertical-align: middle;\n",
       "    }\n",
       "\n",
       "    .dataframe tbody tr th {\n",
       "        vertical-align: top;\n",
       "    }\n",
       "\n",
       "    .dataframe thead th {\n",
       "        text-align: right;\n",
       "    }\n",
       "</style>\n",
       "<table border=\"1\" class=\"dataframe\">\n",
       "  <thead>\n",
       "    <tr style=\"text-align: right;\">\n",
       "      <th></th>\n",
       "      <th>objectid</th>\n",
       "    </tr>\n",
       "  </thead>\n",
       "  <tbody>\n",
       "    <tr>\n",
       "      <th>0</th>\n",
       "      <td>3521294</td>\n",
       "    </tr>\n",
       "    <tr>\n",
       "      <th>1</th>\n",
       "      <td>3521440</td>\n",
       "    </tr>\n",
       "    <tr>\n",
       "      <th>2</th>\n",
       "      <td>3515336</td>\n",
       "    </tr>\n",
       "    <tr>\n",
       "      <th>3</th>\n",
       "      <td>3519350</td>\n",
       "    </tr>\n",
       "    <tr>\n",
       "      <th>4</th>\n",
       "      <td>3514845</td>\n",
       "    </tr>\n",
       "  </tbody>\n",
       "</table>\n",
       "</div>"
      ],
      "text/plain": [
       "   objectid\n",
       "0   3521294\n",
       "1   3521440\n",
       "2   3515336\n",
       "3   3519350\n",
       "4   3514845"
      ]
     },
     "execution_count": 51,
     "metadata": {},
     "output_type": "execute_result"
    }
   ],
   "source": [
    "# Loading the file that indicates which POIs belong to the zones.\n",
    "final_zoning_gdf = pd.read_csv('./zoning_with_pois.csv')\n",
    "print(final_zoning_gdf.shape)\n",
    "final_zoning_gdf.head()"
   ]
  },
  {
   "cell_type": "code",
   "execution_count": 43,
   "metadata": {},
   "outputs": [
    {
     "data": {
      "text/plain": [
       "[3521294, 3521440, 3515336, 3519350, 3514845]"
      ]
     },
     "execution_count": 43,
     "metadata": {},
     "output_type": "execute_result"
    }
   ],
   "source": [
    "obj_id_list = list(final_zoning_gdf['objectid'])\n",
    "obj_id_list[:5]"
   ]
  },
  {
   "cell_type": "markdown",
   "metadata": {},
   "source": [
    "## Paralell Execution"
   ]
  },
  {
   "cell_type": "code",
   "execution_count": 48,
   "metadata": {
    "execution": {
     "iopub.execute_input": "2021-08-10T21:50:03.236761Z",
     "iopub.status.busy": "2021-08-10T21:50:03.236417Z",
     "iopub.status.idle": "2021-08-10T23:51:59.673123Z",
     "shell.execute_reply": "2021-08-10T23:51:59.671871Z",
     "shell.execute_reply.started": "2021-08-10T21:50:03.236732Z"
    }
   },
   "outputs": [
    {
     "name": "stdout",
     "output_type": "stream",
     "text": [
      "Number of processors:  20\n",
      "with GPU: 160.79571105900686\n"
     ]
    }
   ],
   "source": [
    "import multiprocessing as mp\n",
    "from timeit import default_timer as timer\n",
    "\n",
    "start = timer() \n",
    "\n",
    "print(\"Number of processors: \", mp.cpu_count())\n",
    "\n",
    "# Step 1: Initialize multiprocessing.Pool()\n",
    "pool = mp.Pool(int(mp.cpu_count()))\n",
    "\n",
    "# Step 2: Apply the `Shortest_Path_FT()` function to multiple items in parallel\n",
    "items = [(object_id, poi_df) for object_id in obj_id_list]\n",
    "results = pool.starmap(Shortest_Path_FT, items)\n",
    "\n",
    "# Step 2.1: Write results to a CSV file\n",
    "file_name = './austin-shortest_path-zoning-FT_gpu.csv'\n",
    "csv_file_02 = open(file_name, \"w\", newline='')\n",
    "writer_path = csv.writer(csv_file_02, delimiter=',')\n",
    "for result in results:\n",
    "    writer_path.writerow(result)\n",
    "csv_file_02.close()\n",
    "\n",
    "# Step 3: Close the pool\n",
    "pool.close()\n",
    "\n",
    "# Print the elapsed time\n",
    "print(\"Elapsed time with GPU:\", timer() - start)"
   ]
  }
 ],
 "metadata": {
  "interpreter": {
   "hash": "1c960ebc558cb47a91b30b6a69e09ee33d8511507a0164b187e789d12f3a22a9"
  },
  "kernelspec": {
   "display_name": "Python 3 (ipykernel)",
   "language": "python",
   "name": "python3"
  },
  "language_info": {
   "codemirror_mode": {
    "name": "ipython",
    "version": 3
   },
   "file_extension": ".py",
   "mimetype": "text/x-python",
   "name": "python",
   "nbconvert_exporter": "python",
   "pygments_lexer": "ipython3",
   "version": "3.8.16"
  }
 },
 "nbformat": 4,
 "nbformat_minor": 4
}
