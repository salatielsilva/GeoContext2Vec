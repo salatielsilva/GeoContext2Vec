{
 "cells": [
  {
   "cell_type": "markdown",
   "metadata": {
    "id": "TD4OywR1-4Yl"
   },
   "source": [
    "# Dependencies"
   ]
  },
  {
   "cell_type": "code",
   "execution_count": null,
   "metadata": {},
   "outputs": [],
   "source": [
    "!pip install binary gensim==3.6.0"
   ]
  },
  {
   "cell_type": "markdown",
   "metadata": {
    "id": "_F1MrhcZ-7Zu"
   },
   "source": [
    "# Libraries"
   ]
  },
  {
   "cell_type": "code",
   "execution_count": 1,
   "metadata": {
    "id": "XeMfHRaC_BMP"
   },
   "outputs": [],
   "source": [
    "import pandas as pd\n",
    "import numpy as np\n",
    "import csv\n",
    "import multiprocessing\n",
    "from gensim.models import Word2Vec\n",
    "from gensim.models import KeyedVectors\n",
    "from time import time  # To time our operations\n",
    "\n",
    "#import logging  # Setting up the loggings to monitor gensim\n",
    "#logging.basicConfig(format=\"%(levelname)s - %(asctime)s: %(message)s\", datefmt= '%H:%M:%S', level=logging.INFO)"
   ]
  },
  {
   "cell_type": "markdown",
   "metadata": {
    "id": "-06Q-iwFwZ9z"
   },
   "source": [
    "## Pipeline Training"
   ]
  },
  {
   "cell_type": "code",
   "execution_count": null,
   "metadata": {
    "colab": {
     "base_uri": "https://localhost:8080/"
    },
    "id": "DgjzxY-bxEMK",
    "outputId": "c2e4e84b-6f51-4ec1-e65c-86de1087140f",
    "scrolled": true
   },
   "outputs": [],
   "source": [
    "cores = multiprocessing.cpu_count()   # Number of CPU cores used for training\n",
    "t = time()  # Time of the process\n",
    "\n",
    "for n in range(0, 9):\n",
    "    for w in np.arange(0.0, 1.1, 0.1):\n",
    "        w = round(w, 1)\n",
    "\n",
    "        print('Training model (tuple of weight):', w)\n",
    "\n",
    "        file_name = './austin-sl-tuple-n-itdl-' + str(n) + 'bin-wgt'+str(w)+'-p.csv'\n",
    "\n",
    "        print(\"Loading file:\", file_name)\n",
    "        tuples = pd.read_csv(file_name, error_bad_lines=False)\n",
    "\n",
    "        # Removing damaged rows\n",
    "        tuples = tuples.dropna()\n",
    "\n",
    "        # Using only the types of PoIs to create sentences in Word2Vec\n",
    "        tuples = tuples[['center_poi', 'context_poi']]\n",
    "\n",
    "        # Adapting to Word2Vec sentences\n",
    "        sentencesTuples = tuples.values.tolist()\n",
    "\n",
    "        # Creating skip-gram model\n",
    "        p2v_modeltp = Word2Vec(min_count=1,\n",
    "                                window=1,\n",
    "                                sg=1,  # Skip-gram\n",
    "                                size=70,\n",
    "                                sample=6e-5,\n",
    "                                alpha=0.03,\n",
    "                                min_alpha=0.0007,\n",
    "                                negative=20,\n",
    "                                workers=cores-1)\n",
    "\n",
    "        # Building vocabulary\n",
    "        p2v_modeltp.build_vocab(sentencesTuples, progress_per=10000)\n",
    "\n",
    "        # Training the model\n",
    "        p2v_modeltp.train(sentencesTuples, total_examples=p2v_modeltp.corpus_count, epochs=15, report_delay=1)\n",
    "\n",
    "        # Saving to a file\n",
    "        model_name = './austin-sl-tuple-n-itdl-' + str(n) + 'bin-wgt'+str(w)+'-p.model'\n",
    "\n",
    "        print('Saving file:', model_name)\n",
    "        p2v_modeltp.save(model_name)\n",
    "\n",
    "print('Process finished.')"
   ]
  },
  {
   "cell_type": "code",
   "execution_count": null,
   "metadata": {},
   "outputs": [],
   "source": [
    "p2v_modeltp.wv.most_similar(positive=['Parks'])"
   ]
  }
 ],
 "metadata": {
  "colab": {
   "collapsed_sections": [
    "xHloq6HRom6U",
    "AzIzOXRdn10p"
   ],
   "name": "Place2Vec  - Model Trainning.ipynb",
   "provenance": [],
   "toc_visible": true
  },
  "kernelspec": {
   "display_name": "Python 3 (ipykernel)",
   "language": "python",
   "name": "python3"
  },
  "language_info": {
   "codemirror_mode": {
    "name": "ipython",
    "version": 3
   },
   "file_extension": ".py",
   "mimetype": "text/x-python",
   "name": "python",
   "nbconvert_exporter": "python",
   "pygments_lexer": "ipython3",
   "version": "3.8.16"
  }
 },
 "nbformat": 4,
 "nbformat_minor": 4
}
