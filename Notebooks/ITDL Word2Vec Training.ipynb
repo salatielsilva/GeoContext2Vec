{
 "cells": [
  {
   "cell_type": "markdown",
   "metadata": {
    "id": "TD4OywR1-4Yl"
   },
   "source": [
    "# Dependencies"
   ]
  },
  {
   "cell_type": "code",
   "execution_count": 3,
   "metadata": {},
   "outputs": [
    {
     "name": "stdout",
     "output_type": "stream",
     "text": [
      "Requirement already satisfied: binary in ./anaconda3/lib/python3.8/site-packages (1.0.0)\n",
      "Collecting gensim==3.6.0\n",
      "  Using cached gensim-3.6.0-cp38-cp38-linux_x86_64.whl\n",
      "Requirement already satisfied: scipy>=0.18.1 in ./anaconda3/lib/python3.8/site-packages (from gensim==3.6.0) (1.7.2)\n",
      "Requirement already satisfied: six>=1.5.0 in ./anaconda3/lib/python3.8/site-packages (from gensim==3.6.0) (1.15.0)\n",
      "Requirement already satisfied: numpy>=1.11.3 in ./anaconda3/lib/python3.8/site-packages (from gensim==3.6.0) (1.19.5)\n",
      "Requirement already satisfied: smart-open>=1.2.1 in ./anaconda3/lib/python3.8/site-packages (from gensim==3.6.0) (5.1.0)\n",
      "Installing collected packages: gensim\n",
      "Successfully installed gensim-3.6.0\n"
     ]
    }
   ],
   "source": [
    "!pip install binary gensim==3.6.0"
   ]
  },
  {
   "cell_type": "markdown",
   "metadata": {
    "id": "_F1MrhcZ-7Zu"
   },
   "source": [
    "# Libraries"
   ]
  },
  {
   "cell_type": "code",
   "execution_count": 1,
   "metadata": {
    "id": "XeMfHRaC_BMP"
   },
   "outputs": [],
   "source": [
    "import pandas as pd\n",
    "import numpy as np\n",
    "import csv\n",
    "import multiprocessing\n",
    "from gensim.models import Word2Vec\n",
    "from gensim.models import KeyedVectors\n",
    "from time import time  # To time our operations\n",
    "\n",
    "#import logging  # Setting up the loggings to monitor gensim\n",
    "#logging.basicConfig(format=\"%(levelname)s - %(asctime)s: %(message)s\", datefmt= '%H:%M:%S', level=logging.INFO)"
   ]
  },
  {
   "cell_type": "markdown",
   "metadata": {
    "id": "-06Q-iwFwZ9z"
   },
   "source": [
    "## Pipeline Training"
   ]
  },
  {
   "cell_type": "code",
   "execution_count": null,
   "metadata": {
    "colab": {
     "base_uri": "https://localhost:8080/"
    },
    "id": "DgjzxY-bxEMK",
    "outputId": "c2e4e84b-6f51-4ec1-e65c-86de1087140f",
    "scrolled": true
   },
   "outputs": [
    {
     "name": "stdout",
     "output_type": "stream",
     "text": [
      "Training model (tuple of weight): 0.0\n",
      "loading file: ./geographic/ITDL Partial Bins 02/austin-sl-tuple-n-itdl-0bin-wgt0.0-p.parquet\n",
      "saving file: ./geographic/ITDL Partial Bins 03/austin-sl-tuple-n-itdl-0bin-wgt0.0-p.model\n",
      "Training model (tuple of weight): 0.1\n",
      "loading file: ./geographic/ITDL Partial Bins 02/austin-sl-tuple-n-itdl-0bin-wgt0.1-p.parquet\n",
      "saving file: ./geographic/ITDL Partial Bins 03/austin-sl-tuple-n-itdl-0bin-wgt0.1-p.model\n",
      "Training model (tuple of weight): 0.2\n",
      "loading file: ./geographic/ITDL Partial Bins 02/austin-sl-tuple-n-itdl-0bin-wgt0.2-p.parquet\n",
      "saving file: ./geographic/ITDL Partial Bins 03/austin-sl-tuple-n-itdl-0bin-wgt0.2-p.model\n",
      "Training model (tuple of weight): 0.3\n",
      "loading file: ./geographic/ITDL Partial Bins 02/austin-sl-tuple-n-itdl-0bin-wgt0.3-p.parquet\n",
      "saving file: ./geographic/ITDL Partial Bins 03/austin-sl-tuple-n-itdl-0bin-wgt0.3-p.model\n",
      "Training model (tuple of weight): 0.4\n",
      "loading file: ./geographic/ITDL Partial Bins 02/austin-sl-tuple-n-itdl-0bin-wgt0.4-p.parquet\n",
      "saving file: ./geographic/ITDL Partial Bins 03/austin-sl-tuple-n-itdl-0bin-wgt0.4-p.model\n",
      "Training model (tuple of weight): 0.5\n",
      "loading file: ./geographic/ITDL Partial Bins 02/austin-sl-tuple-n-itdl-0bin-wgt0.5-p.parquet\n",
      "saving file: ./geographic/ITDL Partial Bins 03/austin-sl-tuple-n-itdl-0bin-wgt0.5-p.model\n",
      "Training model (tuple of weight): 0.6\n",
      "loading file: ./geographic/ITDL Partial Bins 02/austin-sl-tuple-n-itdl-0bin-wgt0.6-p.parquet\n",
      "saving file: ./geographic/ITDL Partial Bins 03/austin-sl-tuple-n-itdl-0bin-wgt0.6-p.model\n",
      "Training model (tuple of weight): 0.7\n",
      "loading file: ./geographic/ITDL Partial Bins 02/austin-sl-tuple-n-itdl-0bin-wgt0.7-p.parquet\n",
      "saving file: ./geographic/ITDL Partial Bins 03/austin-sl-tuple-n-itdl-0bin-wgt0.7-p.model\n",
      "Training model (tuple of weight): 0.8\n",
      "loading file: ./geographic/ITDL Partial Bins 02/austin-sl-tuple-n-itdl-0bin-wgt0.8-p.parquet\n",
      "saving file: ./geographic/ITDL Partial Bins 03/austin-sl-tuple-n-itdl-0bin-wgt0.8-p.model\n",
      "Training model (tuple of weight): 0.9\n",
      "loading file: ./geographic/ITDL Partial Bins 02/austin-sl-tuple-n-itdl-0bin-wgt0.9-p.parquet\n",
      "saving file: ./geographic/ITDL Partial Bins 03/austin-sl-tuple-n-itdl-0bin-wgt0.9-p.model\n",
      "Training model (tuple of weight): 1.0\n",
      "loading file: ./geographic/ITDL Partial Bins 02/austin-sl-tuple-n-itdl-0bin-wgt1.0-p.parquet\n",
      "saving file: ./geographic/ITDL Partial Bins 03/austin-sl-tuple-n-itdl-0bin-wgt1.0-p.model\n",
      "Training model (tuple of weight): 0.0\n",
      "loading file: ./geographic/ITDL Partial Bins 02/austin-sl-tuple-n-itdl-1bin-wgt0.0-p.parquet\n",
      "saving file: ./geographic/ITDL Partial Bins 03/austin-sl-tuple-n-itdl-1bin-wgt0.0-p.model\n",
      "Training model (tuple of weight): 0.1\n",
      "loading file: ./geographic/ITDL Partial Bins 02/austin-sl-tuple-n-itdl-1bin-wgt0.1-p.parquet\n",
      "saving file: ./geographic/ITDL Partial Bins 03/austin-sl-tuple-n-itdl-1bin-wgt0.1-p.model\n",
      "Training model (tuple of weight): 0.2\n",
      "loading file: ./geographic/ITDL Partial Bins 02/austin-sl-tuple-n-itdl-1bin-wgt0.2-p.parquet\n",
      "saving file: ./geographic/ITDL Partial Bins 03/austin-sl-tuple-n-itdl-1bin-wgt0.2-p.model\n",
      "Training model (tuple of weight): 0.3\n",
      "loading file: ./geographic/ITDL Partial Bins 02/austin-sl-tuple-n-itdl-1bin-wgt0.3-p.parquet\n",
      "saving file: ./geographic/ITDL Partial Bins 03/austin-sl-tuple-n-itdl-1bin-wgt0.3-p.model\n",
      "Training model (tuple of weight): 0.4\n",
      "loading file: ./geographic/ITDL Partial Bins 02/austin-sl-tuple-n-itdl-1bin-wgt0.4-p.parquet\n",
      "saving file: ./geographic/ITDL Partial Bins 03/austin-sl-tuple-n-itdl-1bin-wgt0.4-p.model\n",
      "Training model (tuple of weight): 0.5\n",
      "loading file: ./geographic/ITDL Partial Bins 02/austin-sl-tuple-n-itdl-1bin-wgt0.5-p.parquet\n",
      "saving file: ./geographic/ITDL Partial Bins 03/austin-sl-tuple-n-itdl-1bin-wgt0.5-p.model\n",
      "Training model (tuple of weight): 0.6\n",
      "loading file: ./geographic/ITDL Partial Bins 02/austin-sl-tuple-n-itdl-1bin-wgt0.6-p.parquet\n",
      "saving file: ./geographic/ITDL Partial Bins 03/austin-sl-tuple-n-itdl-1bin-wgt0.6-p.model\n",
      "Training model (tuple of weight): 0.7\n",
      "loading file: ./geographic/ITDL Partial Bins 02/austin-sl-tuple-n-itdl-1bin-wgt0.7-p.parquet\n",
      "saving file: ./geographic/ITDL Partial Bins 03/austin-sl-tuple-n-itdl-1bin-wgt0.7-p.model\n",
      "Training model (tuple of weight): 0.8\n",
      "loading file: ./geographic/ITDL Partial Bins 02/austin-sl-tuple-n-itdl-1bin-wgt0.8-p.parquet\n",
      "saving file: ./geographic/ITDL Partial Bins 03/austin-sl-tuple-n-itdl-1bin-wgt0.8-p.model\n",
      "Training model (tuple of weight): 0.9\n",
      "loading file: ./geographic/ITDL Partial Bins 02/austin-sl-tuple-n-itdl-1bin-wgt0.9-p.parquet\n",
      "saving file: ./geographic/ITDL Partial Bins 03/austin-sl-tuple-n-itdl-1bin-wgt0.9-p.model\n",
      "Training model (tuple of weight): 1.0\n",
      "loading file: ./geographic/ITDL Partial Bins 02/austin-sl-tuple-n-itdl-1bin-wgt1.0-p.parquet\n",
      "saving file: ./geographic/ITDL Partial Bins 03/austin-sl-tuple-n-itdl-1bin-wgt1.0-p.model\n",
      "Training model (tuple of weight): 0.0\n",
      "loading file: ./geographic/ITDL Partial Bins 02/austin-sl-tuple-n-itdl-2bin-wgt0.0-p.parquet\n",
      "saving file: ./geographic/ITDL Partial Bins 03/austin-sl-tuple-n-itdl-2bin-wgt0.0-p.model\n",
      "Training model (tuple of weight): 0.1\n",
      "loading file: ./geographic/ITDL Partial Bins 02/austin-sl-tuple-n-itdl-2bin-wgt0.1-p.parquet\n",
      "saving file: ./geographic/ITDL Partial Bins 03/austin-sl-tuple-n-itdl-2bin-wgt0.1-p.model\n",
      "Training model (tuple of weight): 0.2\n",
      "loading file: ./geographic/ITDL Partial Bins 02/austin-sl-tuple-n-itdl-2bin-wgt0.2-p.parquet\n",
      "saving file: ./geographic/ITDL Partial Bins 03/austin-sl-tuple-n-itdl-2bin-wgt0.2-p.model\n",
      "Training model (tuple of weight): 0.3\n",
      "loading file: ./geographic/ITDL Partial Bins 02/austin-sl-tuple-n-itdl-2bin-wgt0.3-p.parquet\n",
      "saving file: ./geographic/ITDL Partial Bins 03/austin-sl-tuple-n-itdl-2bin-wgt0.3-p.model\n",
      "Training model (tuple of weight): 0.4\n",
      "loading file: ./geographic/ITDL Partial Bins 02/austin-sl-tuple-n-itdl-2bin-wgt0.4-p.parquet\n",
      "saving file: ./geographic/ITDL Partial Bins 03/austin-sl-tuple-n-itdl-2bin-wgt0.4-p.model\n",
      "Training model (tuple of weight): 0.5\n",
      "loading file: ./geographic/ITDL Partial Bins 02/austin-sl-tuple-n-itdl-2bin-wgt0.5-p.parquet\n",
      "saving file: ./geographic/ITDL Partial Bins 03/austin-sl-tuple-n-itdl-2bin-wgt0.5-p.model\n",
      "Training model (tuple of weight): 0.6\n",
      "loading file: ./geographic/ITDL Partial Bins 02/austin-sl-tuple-n-itdl-2bin-wgt0.6-p.parquet\n",
      "saving file: ./geographic/ITDL Partial Bins 03/austin-sl-tuple-n-itdl-2bin-wgt0.6-p.model\n",
      "Training model (tuple of weight): 0.7\n",
      "loading file: ./geographic/ITDL Partial Bins 02/austin-sl-tuple-n-itdl-2bin-wgt0.7-p.parquet\n",
      "saving file: ./geographic/ITDL Partial Bins 03/austin-sl-tuple-n-itdl-2bin-wgt0.7-p.model\n",
      "Training model (tuple of weight): 0.8\n",
      "loading file: ./geographic/ITDL Partial Bins 02/austin-sl-tuple-n-itdl-2bin-wgt0.8-p.parquet\n",
      "saving file: ./geographic/ITDL Partial Bins 03/austin-sl-tuple-n-itdl-2bin-wgt0.8-p.model\n",
      "Training model (tuple of weight): 0.9\n",
      "loading file: ./geographic/ITDL Partial Bins 02/austin-sl-tuple-n-itdl-2bin-wgt0.9-p.parquet\n",
      "saving file: ./geographic/ITDL Partial Bins 03/austin-sl-tuple-n-itdl-2bin-wgt0.9-p.model\n",
      "Training model (tuple of weight): 1.0\n",
      "loading file: ./geographic/ITDL Partial Bins 02/austin-sl-tuple-n-itdl-2bin-wgt1.0-p.parquet\n",
      "saving file: ./geographic/ITDL Partial Bins 03/austin-sl-tuple-n-itdl-2bin-wgt1.0-p.model\n",
      "Training model (tuple of weight): 0.0\n",
      "loading file: ./geographic/ITDL Partial Bins 02/austin-sl-tuple-n-itdl-3bin-wgt0.0-p.parquet\n",
      "saving file: ./geographic/ITDL Partial Bins 03/austin-sl-tuple-n-itdl-3bin-wgt0.0-p.model\n",
      "Training model (tuple of weight): 0.1\n",
      "loading file: ./geographic/ITDL Partial Bins 02/austin-sl-tuple-n-itdl-3bin-wgt0.1-p.parquet\n",
      "saving file: ./geographic/ITDL Partial Bins 03/austin-sl-tuple-n-itdl-3bin-wgt0.1-p.model\n",
      "Training model (tuple of weight): 0.2\n",
      "loading file: ./geographic/ITDL Partial Bins 02/austin-sl-tuple-n-itdl-3bin-wgt0.2-p.parquet\n",
      "saving file: ./geographic/ITDL Partial Bins 03/austin-sl-tuple-n-itdl-3bin-wgt0.2-p.model\n",
      "Training model (tuple of weight): 0.3\n",
      "loading file: ./geographic/ITDL Partial Bins 02/austin-sl-tuple-n-itdl-3bin-wgt0.3-p.parquet\n",
      "saving file: ./geographic/ITDL Partial Bins 03/austin-sl-tuple-n-itdl-3bin-wgt0.3-p.model\n",
      "Training model (tuple of weight): 0.4\n",
      "loading file: ./geographic/ITDL Partial Bins 02/austin-sl-tuple-n-itdl-3bin-wgt0.4-p.parquet\n"
     ]
    },
    {
     "name": "stdout",
     "output_type": "stream",
     "text": [
      "saving file: ./geographic/ITDL Partial Bins 03/austin-sl-tuple-n-itdl-3bin-wgt0.4-p.model\n",
      "Training model (tuple of weight): 0.5\n",
      "loading file: ./geographic/ITDL Partial Bins 02/austin-sl-tuple-n-itdl-3bin-wgt0.5-p.parquet\n"
     ]
    }
   ],
   "source": [
    "cores = multiprocessing.cpu_count()   # Number of CPU cores used for training\n",
    "t = time()  # Time of the process\n",
    "\n",
    "for n in range(0, 9):\n",
    "    for w in np.arange(0.0, 1.1, 0.1):\n",
    "        w = round(w, 1)\n",
    "\n",
    "        print('Training model (tuple of weight):', w)\n",
    "\n",
    "        file_name = './geographic/austin-sl-tuple-n-itdl-' + str(n) + 'bin-wgt'+str(w)+'-p.csv'\n",
    "\n",
    "        print(\"Loading file:\", file_name)\n",
    "        tuples = pd.read_csv(file_name, error_bad_lines=False)\n",
    "\n",
    "        # Removing damaged rows\n",
    "        tuples = tuples.dropna()\n",
    "\n",
    "        # Using only the types of PoIs to create sentences in Word2Vec\n",
    "        tuples = tuples[['center_poi', 'context_poi']]\n",
    "\n",
    "        # Adapting to Word2Vec sentences\n",
    "        sentencesTuples = tuples.values.tolist()\n",
    "\n",
    "        # Creating skip-gram model\n",
    "        p2v_modeltp = Word2Vec(min_count=1,\n",
    "                                window=1,\n",
    "                                sg=1,  # Skip-gram\n",
    "                                size=70,\n",
    "                                sample=6e-5,\n",
    "                                alpha=0.03,\n",
    "                                min_alpha=0.0007,\n",
    "                                negative=20,\n",
    "                                workers=cores-1)\n",
    "\n",
    "        # Building vocabulary\n",
    "        p2v_modeltp.build_vocab(sentencesTuples, progress_per=10000)\n",
    "\n",
    "        # Training the model\n",
    "        p2v_modeltp.train(sentencesTuples, total_examples=p2v_modeltp.corpus_count, epochs=15, report_delay=1)\n",
    "\n",
    "        # Saving to a file\n",
    "        model_name = './geographic/ITDL Partial Bins 03/austin-sl-tuple-n-itdl-' + str(n) + 'bin-wgt'+str(w)+'-p.model'\n",
    "\n",
    "        print('Saving file:', model_name)\n",
    "        p2v_modeltp.save(model_name)\n",
    "\n",
    "print('Process finished.')"
   ]
  },
  {
   "cell_type": "code",
   "execution_count": 6,
   "metadata": {},
   "outputs": [
    {
     "name": "stderr",
     "output_type": "stream",
     "text": [
      "/home/salatiel/anaconda3/lib/python3.7/site-packages/gensim/matutils.py:737: FutureWarning: Conversion of the second argument of issubdtype from `int` to `np.signedinteger` is deprecated. In future, it will be treated as `np.int64 == np.dtype(int).type`.\n",
      "  if np.issubdtype(vec.dtype, np.int):\n"
     ]
    },
    {
     "data": {
      "text/plain": [
       "[('Hiking', 0.9560397863388062),\n",
       " ('Dog Parks', 0.9462762475013733),\n",
       " ('Beaches', 0.9367349147796631),\n",
       " ('Botanical Gardens', 0.9333735108375549),\n",
       " ('Playgrounds', 0.9247860908508301),\n",
       " ('Tiki Bars', 0.9231750965118408),\n",
       " ('Professional Sports Teams', 0.9228018522262573),\n",
       " ('Skate Parks', 0.9214819073677063),\n",
       " ('Water Parks', 0.9184080362319946),\n",
       " ('Day Camps', 0.9172604084014893)]"
      ]
     },
     "execution_count": 6,
     "metadata": {},
     "output_type": "execute_result"
    }
   ],
   "source": [
    "p2v_modeltp.wv.most_similar(positive=['Parks'])"
   ]
  }
 ],
 "metadata": {
  "colab": {
   "collapsed_sections": [
    "xHloq6HRom6U",
    "AzIzOXRdn10p"
   ],
   "name": "Place2Vec  - Model Trainning.ipynb",
   "provenance": [],
   "toc_visible": true
  },
  "kernelspec": {
   "display_name": "Python 3 (ipykernel)",
   "language": "python",
   "name": "python3"
  },
  "language_info": {
   "codemirror_mode": {
    "name": "ipython",
    "version": 3
   },
   "file_extension": ".py",
   "mimetype": "text/x-python",
   "name": "python",
   "nbconvert_exporter": "python",
   "pygments_lexer": "ipython3",
   "version": "3.8.16"
  }
 },
 "nbformat": 4,
 "nbformat_minor": 4
}
