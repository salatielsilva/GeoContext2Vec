{
 "cells": [
  {
   "cell_type": "markdown",
   "metadata": {
    "id": "TD4OywR1-4Yl"
   },
   "source": [
    "# Dependencies"
   ]
  },
  {
   "cell_type": "code",
   "execution_count": null,
   "metadata": {},
   "outputs": [],
   "source": [
    "!pip install binary gensim==3.6.0"
   ]
  },
  {
   "cell_type": "markdown",
   "metadata": {
    "id": "_F1MrhcZ-7Zu"
   },
   "source": [
    "# Libraries"
   ]
  },
  {
   "cell_type": "code",
   "execution_count": 1,
   "metadata": {
    "id": "XeMfHRaC_BMP"
   },
   "outputs": [],
   "source": [
    "import pandas as pd\n",
    "import numpy as np\n",
    "import csv\n",
    "import multiprocessing\n",
    "from gensim.models import Word2Vec\n",
    "from gensim.models import KeyedVectors\n",
    "from time import time  # To time our operations\n",
    "\n",
    "#import logging  # Setting up the loggings to monitor gensim\n",
    "#logging.basicConfig(format=\"%(levelname)s - %(asctime)s: %(message)s\", datefmt= '%H:%M:%S', level=logging.INFO)"
   ]
  },
  {
   "cell_type": "markdown",
   "metadata": {
    "id": "-06Q-iwFwZ9z"
   },
   "source": [
    "## Pipeline Training"
   ]
  },
  {
   "cell_type": "code",
   "execution_count": null,
   "metadata": {
    "colab": {
     "base_uri": "https://localhost:8080/"
    },
    "id": "DgjzxY-bxEMK",
    "outputId": "c2e4e84b-6f51-4ec1-e65c-86de1087140f",
    "scrolled": true
   },
   "outputs": [],
   "source": [
    "cores = multiprocessing.cpu_count()   # Number of CPU cores used for training\n",
    "t = time()  # Time of the process\n",
    "\n",
    "osm_tables = ['bins_polygons_information', 'bins_roads_information', 'bins_lines_information', 'bins_points_information']\n",
    "\n",
    "for osm_table in osm_tables:\n",
    "    for n in range(0, 9, 1):\n",
    "        for w in np.arange(0.0, 1.1, 0.1):\n",
    "            w = round(w, 1)\n",
    "            print('Training model (tuple of weight):', w)\n",
    "\n",
    "            # You must adjust the file name for binary relations generated with points\n",
    "            file_name = './austin-sl-tuple-geoc2vec-' + str(n) + osm_table+ '-wgt'+str(w)+'pfp-c.csv'\n",
    "            print(\"Loading file:\", file_name)\n",
    "            tuples = pd.read_csv(file_name)\n",
    "\n",
    "            # Removing damaged rows\n",
    "            tuples = tuples.dropna()\n",
    "\n",
    "            # Using only the types of PoIs to create sentences in Word2Vec\n",
    "            tuples = tuples[['center_poi', 'context_osm']]\n",
    "\n",
    "            # Adapting to Word2Vec sentences\n",
    "            sentencesTuples = tuples.values.tolist()\n",
    "\n",
    "            # Creating skip-gram model\n",
    "            p2v_modeltp = Word2Vec(min_count=5,\n",
    "                                    window=1,\n",
    "                                    sg=1,  # Skip-gram\n",
    "                                    size=70,\n",
    "                                    sample=6e-5, \n",
    "                                    alpha=0.03, \n",
    "                                    min_alpha=0.0007, \n",
    "                                    negative=20,\n",
    "                                    workers=cores-1)\n",
    "\n",
    "            # Building vocabulary\n",
    "            p2v_modeltp.build_vocab(sentencesTuples, progress_per=10000)\n",
    "\n",
    "            # Training the model\n",
    "            p2v_modeltp.train(sentencesTuples, total_examples=p2v_modeltp.corpus_count, epochs=15, report_delay=1)\n",
    "\n",
    "            # Saving to a file\n",
    "            model_name = './austin-sl-tuple-geoc2vec-' + str(n) + osm_table+ '-wgt'+str(w)+'pfp-c.model'\n",
    "            print('Saving file:', model_name)\n",
    "            p2v_modeltp.save(model_name)\n",
    "\n",
    "print('Time to train the model: {} mins'.format(round((time() - t) / 60, 2)))        \n",
    "print('Process finish.')"
   ]
  },
  {
   "cell_type": "code",
   "execution_count": 63,
   "metadata": {},
   "outputs": [
    {
     "data": {
      "text/plain": [
       "[('General Dentistry', 0.9591137766838074),\n",
       " ('Cosmetic Dentists', 0.9166595339775085),\n",
       " ('Orthodontists', 0.8655418753623962),\n",
       " ('Oral Surgeons', 0.8523178696632385),\n",
       " ('Hair Removal', 0.8509488701820374),\n",
       " ('Health & Medical', 0.823373556137085),\n",
       " ('Beauty & Spas', 0.8233371376991272),\n",
       " ('Pediatric Dentists', 0.806435227394104),\n",
       " ('Skin Care', 0.7864800691604614),\n",
       " ('Doctors', 0.768817126750946)]"
      ]
     },
     "execution_count": 63,
     "metadata": {},
     "output_type": "execute_result"
    }
   ],
   "source": [
    "p2v_modeltp.wv.most_similar(positive=['Dentists'])"
   ]
  }
 ],
 "metadata": {
  "colab": {
   "collapsed_sections": [
    "xHloq6HRom6U",
    "AzIzOXRdn10p"
   ],
   "name": "Place2Vec  - Model Trainning.ipynb",
   "provenance": [],
   "toc_visible": true
  },
  "kernelspec": {
   "display_name": "Python 3 (ipykernel)",
   "language": "python",
   "name": "python3"
  },
  "language_info": {
   "codemirror_mode": {
    "name": "ipython",
    "version": 3
   },
   "file_extension": ".py",
   "mimetype": "text/x-python",
   "name": "python",
   "nbconvert_exporter": "python",
   "pygments_lexer": "ipython3",
   "version": "3.8.16"
  }
 },
 "nbformat": 4,
 "nbformat_minor": 4
}
